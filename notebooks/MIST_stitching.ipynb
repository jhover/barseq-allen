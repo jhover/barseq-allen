{
 "cells": [
  {
   "cell_type": "code",
   "execution_count": 1,
   "id": "120b38b3-5834-4f75-92bd-f7ca85fd8f91",
   "metadata": {
    "tags": []
   },
   "outputs": [],
   "source": [
    "import os\n",
    "import numpy as np\n",
    "import tifffile\n",
    "import PIL\n",
    "from PIL import Image, ImageSequence\n",
    "from ScanImageTiffReader import ScanImageTiffReader, ScanImageTiffReaderContext\n",
    "import imagej\n",
    "import pandas as pd\n",
    "import skimage"
   ]
  },
  {
   "cell_type": "code",
   "execution_count": 2,
   "id": "3603c13c-981e-4e90-b7bf-52417dd7ed33",
   "metadata": {
    "tags": []
   },
   "outputs": [],
   "source": [
    "def get_file_name(path,kind):  \n",
    "    os.chdir(path)\n",
    "    files=[]\n",
    "    for file in os.listdir():\n",
    "        if file.endswith(kind):\n",
    "            files.append(file)\n",
    "    return files\n",
    "def get_pos(image_file_name):\n",
    "    start=image_file_name.find('_')+1\n",
    "    end=image_file_name.find('_',4)\n",
    "    return image_file_name[start:end]\n",
    "def get_row(image_file_name):\n",
    "    start=image_file_name.find('_',10)+1\n",
    "    end=start+3\n",
    "    return int(image_file_name[start:end])\n",
    "\n",
    "def get_col(image_file_name):\n",
    "    start=image_file_name.find('_',7)+1\n",
    "    end=start+3\n",
    "    return int(image_file_name[start:end])"
   ]
  },
  {
   "cell_type": "code",
   "execution_count": 5,
   "id": "98bd0438-7cd4-484a-b7c5-fc8d43b2dd93",
   "metadata": {},
   "outputs": [],
   "source": [
    "#arrange folders\n",
    "# pos_path=os.path.join(\"D:\\\\\",\"20230322_Rabies_control_test_666346_1\")\n",
    "# image_folder='GFP01'\n",
    "# channal_number=3\n",
    "# file=get_file_name(os.path.join(pos_path,image_folder),'.tif')\n",
    "# pos=[get_pos(f) for f in file]\n",
    "# pos_ls=np.unique(pos)\n",
    "# c_ls=[\"gfp\",\"t\",\"dic\"]\n",
    "# for i in c_ls:\n",
    "#     if not os.path.exists(os.path.join(pos_path,i)):\n",
    "#         os.mkdir(os.path.join(pos_path,i))        \n",
    "# for i in c_ls:\n",
    "#     for j in pos_ls:\n",
    "#         if not os.path.exists(os.path.join(pos_path,i,j)):\n",
    "#             os.mkdir(os.path.join(pos_path,i,j)) \n",
    "#         if not os.path.exists(os.path.join(pos_path,i,\"stitched_\"+j)):\n",
    "#             os.mkdir(os.path.join(pos_path,i,\"stitched_\"+j))\n",
    "# pos_index_ls=[]\n",
    "# for pos_name in pos_ls:\n",
    "#     index=[i for i, x in enumerate(pos) if x == pos_name]\n",
    "#     pos_index_ls.append(index)\n",
    "# for i in range(len(pos_index_ls)):\n",
    "#     folder=pos_ls[i]\n",
    "#     name=[file[index] for index in pos_index_ls[i]]\n",
    "#     for n in name:\n",
    "#         img=tifffile.imread(os.path.join(pos_path,image_folder,n))\n",
    "#         for j in range(len(img)):\n",
    "#             img_single=Image.fromarray(img[j])\n",
    "#             img_single.save(os.path.join(pos_path,c_ls[j],folder,n))"
   ]
  },
  {
   "cell_type": "code",
   "execution_count": 3,
   "id": "047edeed-9b73-4c2b-bef8-848e426f6c09",
   "metadata": {
    "tags": []
   },
   "outputs": [],
   "source": [
    "ij=imagej.init('E:\\\\Allenwork\\\\Software\\\\Fiji.app')"
   ]
  },
  {
   "cell_type": "code",
   "execution_count": 4,
   "id": "d5561962-3cf7-434d-99f1-86aefd54a42e",
   "metadata": {},
   "outputs": [
    {
     "data": {
      "text/plain": [
       "'2.9.0/1.53t'"
      ]
     },
     "execution_count": 4,
     "metadata": {},
     "output_type": "execute_result"
    }
   ],
   "source": [
    "ij.getVersion()"
   ]
  },
  {
   "cell_type": "code",
   "execution_count": null,
   "id": "8c25e47d-b377-4073-9a21-042d8bf339f4",
   "metadata": {},
   "outputs": [],
   "source": [
    "stitch_channal=\"dic\"\n",
    "image_file_name_ls=os.listdir(os.path.join(pos_path,stitch_channal,pos_ls[1]))\n",
    "row=[get_row(i) for i in image_file_name_ls]\n",
    "col=[get_col(i) for i in image_file_name_ls]\n",
    "Height=max(row)+1\n",
    "Width=max(col)+1\n",
    "Starting_point=\"Upper Right\"\n",
    "img_directory=os.path.join(pos_path,stitch_channal,pos_ls[0])\n",
    "img_save_directory=os.path.join(pos_path,stitch_channal,\"stitched_\"+pos_ls[1])\n",
    "filenamePattern='Max_'+pos_ls[0]+'_\\{ccc\\}_\\{rrr\\}.tif'"
   ]
  },
  {
   "cell_type": "code",
   "execution_count": null,
   "id": "d3f85f3b-c815-40fc-b11f-339470db1779",
   "metadata": {},
   "outputs": [],
   "source": [
    "img_directory = img_directory.replace('\\\\','\\\\\\\\')\n",
    "img_save_directory=img_save_directory.replace('\\\\','\\\\\\\\')"
   ]
  },
  {
   "cell_type": "code",
   "execution_count": null,
   "id": "3dd4a303-c197-4fd3-9997-e96b90d052e5",
   "metadata": {},
   "outputs": [],
   "source": [
    "macro = f'''run(\"MIST\",\\\n",
    "\"gridwidth={Width} \\\n",
    "gridheight={Height} \\\n",
    "starttilerow=0 \\\n",
    "starttilecol=0 \\\n",
    "imagedir={img_directory} \\\n",
    "filenamepattern={filenamePattern} \\\n",
    "filenamepatterntype=ROWCOL \\\n",
    "gridorigin=UR \\\n",
    "assemblefrommetadata=false \\\n",
    "assemblenooverlap=false \\\n",
    "globalpositionsfile=[] \\\n",
    "numberingpattern=HORIZONTALCOMBING \\\n",
    "startrow=0 \\\n",
    "startcol=0 \\\n",
    "extentwidth=8 \\\n",
    "extentheight=10 \\\n",
    "timeslices=0 \\\n",
    "istimeslicesenabled=false \\\n",
    "outputpath={img_save_directory} \\\n",
    "displaystitching=true outputfullimage=true outputmeta=true outputimgpyramid=false \\\n",
    "blendingmode=AVERAGE blendingalpha=NaN compressionmode=UNCOMPRESSED outfileprefix=img- \\\n",
    "unit=MICROMETER unitx=1.0 unity=1.0 programtype=JAVA numcputhreads=8 loadfftwplan=true \\\n",
    "savefftwplan=true fftwplantype=MEASURE fftwlibraryname=libfftw3 \\\n",
    "fftwlibraryfilename=libfftw3.dll planpath=C:\\\\\\\\Fiji.app\\\\\\\\lib\\\\\\\\fftw\\\\\\\\fftPlans \\\n",
    "fftwlibrarypath=C:\\\\\\\\Fiji.app\\\\\\\\lib\\\\\\\\fftw stagerepeatability=0 \\\n",
    "horizontaloverlap=10.0 \\\n",
    "verticaloverlap=10.0 \\\n",
    "numfftpeaks=0 \\\n",
    "overlapuncertainty=NaN \\\n",
    "isusedoubleprecision=false \\\n",
    "isusebioformats=false \\\n",
    "issuppressmodelwarningdialog=false \\\n",
    "isenablecudaexceptions=false \\\n",
    "translationrefinementmethod=SINGLE_HILL_CLIMB \\\n",
    "numtranslationrefinementstartpoints=16 \\\n",
    "headless=false \\\n",
    "loglevel=MANDATORY \\\n",
    "debuglevel=NONE\");'''"
   ]
  },
  {
   "cell_type": "code",
   "execution_count": null,
   "id": "55e8c182-7612-40b2-b507-d30dd7d49044",
   "metadata": {},
   "outputs": [],
   "source": [
    "ij.py.run_macro(macro)"
   ]
  },
  {
   "cell_type": "code",
   "execution_count": null,
   "id": "deaf44af-ebcb-48ea-89ce-c4a5f0575988",
   "metadata": {},
   "outputs": [],
   "source": [
    "global_positions_filepath=os.path.join('D:\\\\','20230322_Rabies_control_test_666346_1','dic','stitched_Pos1','img-global-positions-0.txt')\n",
    "images_dirpath=os.path.join('D:\\\\','20230322_Rabies_control_test_666346_1','dic','Pos1')\n",
    "stitch_images_dirpath=os.path.join('D:\\\\','20230322_Rabies_control_test_666346_1','t','Pos1')\n",
    "stitch_images_savedirpath=os.path.join('D:\\\\','20230322_Rabies_control_test_666346_1','t','stitched_Pos1')"
   ]
  },
  {
   "cell_type": "code",
   "execution_count": null,
   "id": "91dac4fe-89dc-46a9-b52d-8c3a1246477d",
   "metadata": {},
   "outputs": [],
   "source": [
    "img_names = list()\n",
    "pixel_x_position = list()\n",
    "pixel_y_position = list()\n",
    "with open(global_positions_filepath, 'r') as fh:\n",
    "    for line in fh:\n",
    "        line = line.strip()\n",
    "        toks = line.split(';')\n",
    "\n",
    "        # name loading\n",
    "        fn_tok = toks[0]\n",
    "        fn = fn_tok.split(':')[1].strip()\n",
    "        img_names.append(fn)\n",
    "\n",
    "        # position loading\n",
    "        pos_tok = toks[2]\n",
    "        pos_pair = pos_tok.split(':')[1].strip()\n",
    "        pos_pair = pos_pair.replace(')', '')\n",
    "        pos_pair = pos_pair.replace('(', '')\n",
    "        pos_pairs = pos_pair.split(',')\n",
    "        x = int(pos_pairs[0].strip())\n",
    "        y = int(pos_pairs[1].strip())\n",
    "        pixel_x_position.append(x)\n",
    "        pixel_y_position.append(y)\n"
   ]
  },
  {
   "cell_type": "code",
   "execution_count": null,
   "id": "96a61a75-e7d9-49f3-a361-c765ba195403",
   "metadata": {},
   "outputs": [],
   "source": [
    "d={'img_names':img_names,'pixel_x_position':pixel_x_position,'pixel_y_position':pixel_y_position}\n",
    "trans = pd.DataFrame(data=d)\n",
    "trans.to_csv(os.path.join('D:\\\\','20230322_Rabies_control_test_666346_1','dic','stitched_Pos1','Pos1'+'_transformation.csv'), index=False)"
   ]
  },
  {
   "cell_type": "code",
   "execution_count": null,
   "id": "4f8b609f-34af-41ef-b087-9bce7c5d0359",
   "metadata": {},
   "outputs": [],
   "source": [
    "first_tile = skimage.io.imread(os.path.join(images_dirpath, img_names[0]))\n",
    "tile_shape = first_tile.shape\n",
    "n_channels = 1\n",
    "if len(tile_shape) == 3:\n",
    "    n_channels = tile_shape[2]\n",
    "tile_h = tile_shape[0]\n",
    "tile_w = tile_shape[1]\n",
    "\n",
    "stitched_img_h = tile_h + np.max(pixel_y_position)\n",
    "stitched_img_w = tile_w + np.max(pixel_x_position)"
   ]
  },
  {
   "cell_type": "code",
   "execution_count": null,
   "id": "cb686c8f-afa9-43ae-a1e9-364025ca823a",
   "metadata": {},
   "outputs": [],
   "source": [
    "stitched_img = np.zeros((stitched_img_h, stitched_img_w), dtype=first_tile.dtype)"
   ]
  },
  {
   "cell_type": "code",
   "execution_count": null,
   "id": "e9d693ce-edfc-4c85-a7b9-2c1e09633cc5",
   "metadata": {},
   "outputs": [],
   "source": [
    "for i in range(0, len(img_names)):\n",
    "    fn = img_names[i]\n",
    "    x = pixel_x_position[i]\n",
    "    y = pixel_y_position[i]\n",
    "\n",
    "    tile = skimage.io.imread(os.path.join(stitch_images_dirpath, fn))\n",
    "    if tile.shape != tile_shape:\n",
    "        raise RuntimeError('All images must be the same shape. Image {} is {}, expected {}'.format(fn, tile.shape, tile_shape))\n",
    "    if tile.dtype != first_tile.dtype:\n",
    "        raise RuntimeError('Img {} has type: {}, expected {}.'.format(fn, tile.dtype, first_tile.dtype))\n",
    "\n",
    "    stitched_img[y:y+tile_h, x:x+tile_w] = tile\n",
    "skimage.io.imsave(os.path.join(stitch_images_savedirpath,'stitched_'+'Pos1.tif'),stitched_img,photometric='minisblack')"
   ]
  }
 ],
 "metadata": {
  "kernelspec": {
   "display_name": "Python 3 (ipykernel)",
   "language": "python",
   "name": "python3"
  },
  "language_info": {
   "codemirror_mode": {
    "name": "ipython",
    "version": 3
   },
   "file_extension": ".py",
   "mimetype": "text/x-python",
   "name": "python",
   "nbconvert_exporter": "python",
   "pygments_lexer": "ipython3",
   "version": "3.9.16"
  }
 },
 "nbformat": 4,
 "nbformat_minor": 5
}
